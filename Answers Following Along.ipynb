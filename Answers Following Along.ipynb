{
 "cells": [
  {
   "cell_type": "code",
   "execution_count": 25,
   "metadata": {},
   "outputs": [],
   "source": [
    "import pandas as pd\n",
    "import datetime as dt\n",
    "import matplotlib.pyplot as plt"
   ]
  },
  {
   "cell_type": "code",
   "execution_count": 26,
   "metadata": {},
   "outputs": [],
   "source": [
    "%matplotlib inline "
   ]
  },
  {
   "cell_type": "code",
   "execution_count": 3,
   "metadata": {},
   "outputs": [],
   "source": [
    "def make_date(date_str):\n",
    "    m, d, y = date_str.split('/')\n",
    "    m = int(m)\n",
    "    d = int(d)\n",
    "    y = int(y)\n",
    "    if y > 13:\n",
    "        y += 1900\n",
    "    else: \n",
    "        y += 2000\n",
    "    return dt.datetime(y, m, d)"
   ]
  },
  {
   "cell_type": "code",
   "execution_count": 8,
   "metadata": {},
   "outputs": [],
   "source": [
    "movies = pd.read_csv(\"moviedata.csv\", sep='\\t', na_values =[\"Unknown\", \"Unkno\"], parse_dates=[0], date_parser=make_date)"
   ]
  },
  {
   "cell_type": "code",
   "execution_count": 9,
   "metadata": {},
   "outputs": [
    {
     "data": {
      "text/html": [
       "<div>\n",
       "<style scoped>\n",
       "    .dataframe tbody tr th:only-of-type {\n",
       "        vertical-align: middle;\n",
       "    }\n",
       "\n",
       "    .dataframe tbody tr th {\n",
       "        vertical-align: top;\n",
       "    }\n",
       "\n",
       "    .dataframe thead th {\n",
       "        text-align: right;\n",
       "    }\n",
       "</style>\n",
       "<table border=\"1\" class=\"dataframe\">\n",
       "  <thead>\n",
       "    <tr style=\"text-align: right;\">\n",
       "      <th></th>\n",
       "      <th>Release_Date</th>\n",
       "      <th>Movie</th>\n",
       "      <th>Distributor</th>\n",
       "      <th>Budget</th>\n",
       "      <th>US Gross</th>\n",
       "      <th>Worldwide Gross</th>\n",
       "    </tr>\n",
       "  </thead>\n",
       "  <tbody>\n",
       "    <tr>\n",
       "      <th>0</th>\n",
       "      <td>2012-03-09</td>\n",
       "      <td>John Carter</td>\n",
       "      <td>NaN</td>\n",
       "      <td>300000000</td>\n",
       "      <td>66439100.0</td>\n",
       "      <td>254439100.0</td>\n",
       "    </tr>\n",
       "    <tr>\n",
       "      <th>1</th>\n",
       "      <td>2007-05-25</td>\n",
       "      <td>Pirates of the Caribbean: At World's End</td>\n",
       "      <td>Buena Vista</td>\n",
       "      <td>300000000</td>\n",
       "      <td>309420425.0</td>\n",
       "      <td>960996492.0</td>\n",
       "    </tr>\n",
       "    <tr>\n",
       "      <th>2</th>\n",
       "      <td>2013-12-13</td>\n",
       "      <td>The Hobbit: There and Back Again</td>\n",
       "      <td>New Line</td>\n",
       "      <td>270000000</td>\n",
       "      <td>NaN</td>\n",
       "      <td>NaN</td>\n",
       "    </tr>\n",
       "    <tr>\n",
       "      <th>3</th>\n",
       "      <td>2012-12-14</td>\n",
       "      <td>The Hobbit: An Unexpected Journey</td>\n",
       "      <td>New Line</td>\n",
       "      <td>270000000</td>\n",
       "      <td>NaN</td>\n",
       "      <td>NaN</td>\n",
       "    </tr>\n",
       "    <tr>\n",
       "      <th>4</th>\n",
       "      <td>2010-11-24</td>\n",
       "      <td>Tangled</td>\n",
       "      <td>Buena Vista</td>\n",
       "      <td>260000000</td>\n",
       "      <td>200821936.0</td>\n",
       "      <td>586581936.0</td>\n",
       "    </tr>\n",
       "  </tbody>\n",
       "</table>\n",
       "</div>"
      ],
      "text/plain": [
       "  Release_Date                                     Movie  Distributor  \\\n",
       "0   2012-03-09                               John Carter          NaN   \n",
       "1   2007-05-25  Pirates of the Caribbean: At World's End  Buena Vista   \n",
       "2   2013-12-13          The Hobbit: There and Back Again     New Line   \n",
       "3   2012-12-14         The Hobbit: An Unexpected Journey     New Line   \n",
       "4   2010-11-24                                   Tangled  Buena Vista   \n",
       "\n",
       "      Budget     US Gross  Worldwide Gross  \n",
       "0  300000000   66439100.0      254439100.0  \n",
       "1  300000000  309420425.0      960996492.0  \n",
       "2  270000000          NaN              NaN  \n",
       "3  270000000          NaN              NaN  \n",
       "4  260000000  200821936.0      586581936.0  "
      ]
     },
     "execution_count": 9,
     "metadata": {},
     "output_type": "execute_result"
    }
   ],
   "source": [
    "movies.head()"
   ]
  },
  {
   "cell_type": "code",
   "execution_count": 10,
   "metadata": {},
   "outputs": [],
   "source": [
    "movies.fillna(0, inplace=True)\n"
   ]
  },
  {
   "cell_type": "code",
   "execution_count": 11,
   "metadata": {},
   "outputs": [
    {
     "name": "stderr",
     "output_type": "stream",
     "text": [
      "C:\\Users\\Khemra\\Anaconda3\\lib\\site-packages\\ipykernel_launcher.py:1: SettingWithCopyWarning: \n",
      "A value is trying to be set on a copy of a slice from a DataFrame\n",
      "\n",
      "See the caveats in the documentation: http://pandas.pydata.org/pandas-docs/stable/indexing.html#indexing-view-versus-copy\n",
      "  \"\"\"Entry point for launching an IPython kernel.\n"
     ]
    }
   ],
   "source": [
    "movies[\"Worldwide Gross\"][movies[\"Worldwide Gross\"]==0]=movies[\"US Gross\"]"
   ]
  },
  {
   "cell_type": "code",
   "execution_count": 13,
   "metadata": {},
   "outputs": [],
   "source": [
    "movies[\"Profit\"]=movies[\"Worldwide Gross\"] / movies[\"Budget\"]"
   ]
  },
  {
   "cell_type": "code",
   "execution_count": 14,
   "metadata": {},
   "outputs": [
    {
     "data": {
      "text/html": [
       "<div>\n",
       "<style scoped>\n",
       "    .dataframe tbody tr th:only-of-type {\n",
       "        vertical-align: middle;\n",
       "    }\n",
       "\n",
       "    .dataframe tbody tr th {\n",
       "        vertical-align: top;\n",
       "    }\n",
       "\n",
       "    .dataframe thead th {\n",
       "        text-align: right;\n",
       "    }\n",
       "</style>\n",
       "<table border=\"1\" class=\"dataframe\">\n",
       "  <thead>\n",
       "    <tr style=\"text-align: right;\">\n",
       "      <th></th>\n",
       "      <th>Release_Date</th>\n",
       "      <th>Movie</th>\n",
       "      <th>Distributor</th>\n",
       "      <th>Budget</th>\n",
       "      <th>US Gross</th>\n",
       "      <th>Worldwide Gross</th>\n",
       "      <th>Profit</th>\n",
       "    </tr>\n",
       "  </thead>\n",
       "  <tbody>\n",
       "    <tr>\n",
       "      <th>0</th>\n",
       "      <td>2012-03-09</td>\n",
       "      <td>John Carter</td>\n",
       "      <td>0</td>\n",
       "      <td>300000000</td>\n",
       "      <td>66439100.0</td>\n",
       "      <td>254439100.0</td>\n",
       "      <td>0.848130</td>\n",
       "    </tr>\n",
       "    <tr>\n",
       "      <th>1</th>\n",
       "      <td>2007-05-25</td>\n",
       "      <td>Pirates of the Caribbean: At World's End</td>\n",
       "      <td>Buena Vista</td>\n",
       "      <td>300000000</td>\n",
       "      <td>309420425.0</td>\n",
       "      <td>960996492.0</td>\n",
       "      <td>3.203322</td>\n",
       "    </tr>\n",
       "    <tr>\n",
       "      <th>2</th>\n",
       "      <td>2013-12-13</td>\n",
       "      <td>The Hobbit: There and Back Again</td>\n",
       "      <td>New Line</td>\n",
       "      <td>270000000</td>\n",
       "      <td>0.0</td>\n",
       "      <td>0.0</td>\n",
       "      <td>0.000000</td>\n",
       "    </tr>\n",
       "    <tr>\n",
       "      <th>3</th>\n",
       "      <td>2012-12-14</td>\n",
       "      <td>The Hobbit: An Unexpected Journey</td>\n",
       "      <td>New Line</td>\n",
       "      <td>270000000</td>\n",
       "      <td>0.0</td>\n",
       "      <td>0.0</td>\n",
       "      <td>0.000000</td>\n",
       "    </tr>\n",
       "    <tr>\n",
       "      <th>4</th>\n",
       "      <td>2010-11-24</td>\n",
       "      <td>Tangled</td>\n",
       "      <td>Buena Vista</td>\n",
       "      <td>260000000</td>\n",
       "      <td>200821936.0</td>\n",
       "      <td>586581936.0</td>\n",
       "      <td>2.256084</td>\n",
       "    </tr>\n",
       "  </tbody>\n",
       "</table>\n",
       "</div>"
      ],
      "text/plain": [
       "  Release_Date                                     Movie  Distributor  \\\n",
       "0   2012-03-09                               John Carter            0   \n",
       "1   2007-05-25  Pirates of the Caribbean: At World's End  Buena Vista   \n",
       "2   2013-12-13          The Hobbit: There and Back Again     New Line   \n",
       "3   2012-12-14         The Hobbit: An Unexpected Journey     New Line   \n",
       "4   2010-11-24                                   Tangled  Buena Vista   \n",
       "\n",
       "      Budget     US Gross  Worldwide Gross    Profit  \n",
       "0  300000000   66439100.0      254439100.0  0.848130  \n",
       "1  300000000  309420425.0      960996492.0  3.203322  \n",
       "2  270000000          0.0              0.0  0.000000  \n",
       "3  270000000          0.0              0.0  0.000000  \n",
       "4  260000000  200821936.0      586581936.0  2.256084  "
      ]
     },
     "execution_count": 14,
     "metadata": {},
     "output_type": "execute_result"
    }
   ],
   "source": [
    "movies.head()"
   ]
  },
  {
   "cell_type": "code",
   "execution_count": 16,
   "metadata": {},
   "outputs": [
    {
     "data": {
      "text/plain": [
       "(0, 5)"
      ]
     },
     "execution_count": 16,
     "metadata": {},
     "output_type": "execute_result"
    },
    {
     "data": {
      "image/png": "[encoded data removed]",
      "text/plain": [
       "<Figure size 576x288 with 1 Axes>"
      ]
     },
     "metadata": {
      "needs_background": "light"
     },
     "output_type": "display_data"
    }
   ],
   "source": [
    "fig = plt.figure(figsize = (8,4))\n",
    "ax = fig.add_subplot(111)\n",
    "ax.scatter(movies.Budget, movies.Profit)\n",
    "ax.set_ylim(0, 5)"
   ]
  },
  {
   "cell_type": "markdown",
   "metadata": {},
   "source": [
    "# b) Create two time series: one a count of movies released by month-year (Jan-1990, Feb-1990, etc.), the other those movies' average profitability. Plot both series either in two aligned subplots or in a single subplot with a secondary axis."
   ]
  },
  {
   "cell_type": "code",
   "execution_count": 17,
   "metadata": {},
   "outputs": [],
   "source": [
    "def make_month(date):\n",
    "    return dt.datetime(year=date.year, month=date.month, day=1)"
   ]
  },
  {
   "cell_type": "code",
   "execution_count": 18,
   "metadata": {},
   "outputs": [],
   "source": [
    "movies[\"Month\"]= movies[\"Release_Date\"].apply(make_month)\n",
    "#movies[\"Month\"] = movies.Release_Date.apply(lambda x: dt.datetime(year=x.year, month=x.month, day=1))"
   ]
  },
  {
   "cell_type": "code",
   "execution_count": 20,
   "metadata": {},
   "outputs": [
    {
     "name": "stdout",
     "output_type": "stream",
     "text": [
      "2013-12-01 00:00:00\n",
      "1915-02-01 00:00:00\n"
     ]
    }
   ],
   "source": [
    "print(movies.Month.max())\n",
    "print(movies.Month.min())"
   ]
  },
  {
   "cell_type": "code",
   "execution_count": 21,
   "metadata": {},
   "outputs": [],
   "source": [
    "monthly_count = movies.groupby(\"Month\")[\"Movie\"].aggregate(len)\n",
    "monthly_profit = movies.groupby(\"Month\")[\"Profit\"].mean()"
   ]
  },
  {
   "cell_type": "code",
   "execution_count": 22,
   "metadata": {},
   "outputs": [],
   "source": [
    "monthly_df = pd.DataFrame({\"Count\": monthly_count, \"Mean_Profit\": monthly_profit})"
   ]
  },
  {
   "cell_type": "code",
   "execution_count": 23,
   "metadata": {},
   "outputs": [
    {
     "data": {
      "text/html": [
       "<div>\n",
       "<style scoped>\n",
       "    .dataframe tbody tr th:only-of-type {\n",
       "        vertical-align: middle;\n",
       "    }\n",
       "\n",
       "    .dataframe tbody tr th {\n",
       "        vertical-align: top;\n",
       "    }\n",
       "\n",
       "    .dataframe thead th {\n",
       "        text-align: right;\n",
       "    }\n",
       "</style>\n",
       "<table border=\"1\" class=\"dataframe\">\n",
       "  <thead>\n",
       "    <tr style=\"text-align: right;\">\n",
       "      <th></th>\n",
       "      <th>Count</th>\n",
       "      <th>Mean_Profit</th>\n",
       "    </tr>\n",
       "    <tr>\n",
       "      <th>Month</th>\n",
       "      <th></th>\n",
       "      <th></th>\n",
       "    </tr>\n",
       "  </thead>\n",
       "  <tbody>\n",
       "    <tr>\n",
       "      <th>1915-02-01</th>\n",
       "      <td>1</td>\n",
       "      <td>100.000000</td>\n",
       "    </tr>\n",
       "    <tr>\n",
       "      <th>1916-09-01</th>\n",
       "      <td>1</td>\n",
       "      <td>0.000000</td>\n",
       "    </tr>\n",
       "    <tr>\n",
       "      <th>1916-12-01</th>\n",
       "      <td>1</td>\n",
       "      <td>40.000000</td>\n",
       "    </tr>\n",
       "    <tr>\n",
       "      <th>1920-09-01</th>\n",
       "      <td>1</td>\n",
       "      <td>30.000000</td>\n",
       "    </tr>\n",
       "    <tr>\n",
       "      <th>1925-01-01</th>\n",
       "      <td>1</td>\n",
       "      <td>89.795918</td>\n",
       "    </tr>\n",
       "  </tbody>\n",
       "</table>\n",
       "</div>"
      ],
      "text/plain": [
       "            Count  Mean_Profit\n",
       "Month                         \n",
       "1915-02-01      1   100.000000\n",
       "1916-09-01      1     0.000000\n",
       "1916-12-01      1    40.000000\n",
       "1920-09-01      1    30.000000\n",
       "1925-01-01      1    89.795918"
      ]
     },
     "execution_count": 23,
     "metadata": {},
     "output_type": "execute_result"
    }
   ],
   "source": [
    "monthly_df.head()"
   ]
  },
  {
   "cell_type": "code",
   "execution_count": 29,
   "metadata": {},
   "outputs": [
    {
     "data": {
      "text/plain": [
       "(0, 5)"
      ]
     },
     "execution_count": 29,
     "metadata": {},
     "output_type": "execute_result"
    },
    {
     "data": {
      "image/png": "[encoded data removed]",
      "text/plain": [
       "<Figure size 576x288 with 2 Axes>"
      ]
     },
     "metadata": {
      "needs_background": "light"
     },
     "output_type": "display_data"
    }
   ],
   "source": [
    "fig = plt.figure(figsize=(8,4))\n",
    "ax = fig.add_subplot(111)\n",
    "ax.scatter(monthly_profit.index, monthly_profit)\n",
    "monthly_count.plot(ax=ax, secondary_y=True)\n",
    "ax.set_ylim(0, 5)"
   ]
  },
  {
   "cell_type": "code",
   "execution_count": null,
   "metadata": {},
   "outputs": [],
   "source": []
  }
 ],
 "metadata": {
  "kernelspec": {
   "display_name": "Python 3",
   "language": "python",
   "name": "python3"
  },
  "language_info": {
   "codemirror_mode": {
    "name": "ipython",
    "version": 3
   },
   "file_extension": ".py",
   "mimetype": "text/x-python",
   "name": "python",
   "nbconvert_exporter": "python",
   "pygments_lexer": "ipython3",
   "version": "3.7.3"
  }
 },
 "nbformat": 4,
 "nbformat_minor": 2
}
